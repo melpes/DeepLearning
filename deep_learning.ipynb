{
 "cells": [
  {
   "cell_type": "code",
   "execution_count": null,
   "metadata": {},
   "outputs": [],
   "source": [
    "def error_yout(y_set : list, true_y_set : list):\n",
    "    error_y_set = []\n",
    "    for i in range(len(y_set)):\n",
    "        error_y_set.append(0.5 * (true_y_set[i] - y_set[i])**2)\n",
    "    \n",
    "    error_y = sum(error_y_set)\n",
    "    return error_y"
   ]
  }
 ],
 "metadata": {
  "language_info": {
   "name": "python"
  },
  "orig_nbformat": 4
 },
 "nbformat": 4,
 "nbformat_minor": 2
}
